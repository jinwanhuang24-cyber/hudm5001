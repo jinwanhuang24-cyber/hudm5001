{
 "cells": [
  {
   "cell_type": "markdown",
   "metadata": {},
   "source": [
    "## `if __name__ == '__main__':`\n",
    "\n",
    "\n",
    "### Programming for Data Science\n",
    "### Last Updated: Jan 15, 2023\n",
    "--- \n",
    "\n",
    "### PREREQUISITES\n",
    "- Running Python session (suppressed in later notes)\n",
    "\n",
    "### SOURCES \n",
    "- https://www.geeksforgeeks.org/what-does-the-if-__name__-__main__-do/\n",
    "\n",
    "\n",
    "\n",
    "\n",
    "### OBJECTIVES\n",
    "- Explain what the expression `if __name__ == '__main__'` does\n",
    " \n",
    "\n",
    "\n",
    "### CONCEPTS\n",
    "\n",
    "- main program\n",
    "- module\n",
    "- `__name__` variable\n",
    "- `__main__` \n",
    "\n",
    "\n",
    "---\n",
    "\n",
    "## `What is  __name__ == '__main__' ? `\n",
    "\n",
    "This expression is found in Python scripts.\n",
    "\n",
    "The Python interpreter runs one source file as the `main program`.\n",
    "\n",
    "Other files may run - for instance they may be imported to support the main program - but they won't be the main program.\n",
    "\n",
    "Python uses a special `__name__` variable.\n",
    "\n",
    "For the main program, `__name__` is set to `__main__`.\n",
    "\n",
    "For other files, `__name__` will be set to the file's name."
   ]
  },
  {
   "cell_type": "markdown",
   "metadata": {},
   "source": [
    "## How is it useful?\n",
    "\n",
    "It allows you to control which blocks of code run in various files depending which file is main.\n",
    "\n",
    "Here is an example:\n",
    "\n",
    "`moduleX.py` contains functions that can be imported as a module.  \n",
    "At the bottom, it also has code that runs the functions like this:"
   ]
  },
  {
   "cell_type": "code",
   "execution_count": 7,
   "metadata": {},
   "outputs": [
    {
     "name": "stdout",
     "output_type": "stream",
     "text": [
      "inside function1\n",
      "inside function2\n"
     ]
    }
   ],
   "source": [
    "# moduleX.py\n",
    "\n",
    "# set of functions\n",
    "def function1(): \n",
    "    print (\"inside function1\")\n",
    "\n",
    "def function2(): \n",
    "    print (\"inside function2\")\n",
    "    \n",
    "# code that calls the functions\n",
    "function1() \n",
    "function2() "
   ]
  },
  {
   "cell_type": "markdown",
   "metadata": {},
   "source": [
    "You want to load `moduleX` from `main_script.py`, to use its functions.  \n",
    "However, you don't want to run the code that calls the functions. \n",
    "\n",
    "---  \n",
    "```\n",
    "# main_script.py\n",
    "\n",
    "import moduleX\n",
    "\n",
    "print (\"this is always executed\")\n",
    "```\n",
    "---  "
   ]
  },
  {
   "cell_type": "markdown",
   "metadata": {},
   "source": [
    " Running `main_script.py` will do two things:\n",
    "\n",
    "- call `function1(), function2()`    # not desired\n",
    "- print (\"this is always executed\")  # desired"
   ]
  },
  {
   "cell_type": "markdown",
   "metadata": {},
   "source": [
    "We can get the desired functionality by including `if __name__ == \"__main__\":` statements in each file."
   ]
  },
  {
   "cell_type": "markdown",
   "metadata": {},
   "source": [
    "---  \n",
    "```\n",
    "# moduleX.py\n",
    "\n",
    "# set of functions\n",
    "def function1(): \n",
    "    print (\"inside function1\")\n",
    "\n",
    "def function2(): \n",
    "    print (\"inside function2\")\n",
    "    \n",
    "if __name__ == \"__main__\":\n",
    "    print('only called when this is main program')\n",
    "\n",
    "    function1() \n",
    "    function2() \n",
    "```\n",
    "---  "
   ]
  },
  {
   "cell_type": "markdown",
   "metadata": {},
   "source": [
    "```\n",
    "# main_script.py\n",
    "\n",
    "import moduleX\n",
    "\n",
    "print (\"this is always executed\")\n",
    "\n",
    "if __name__ == \"__main__\": \n",
    "    print('only called when this is main program')\n",
    "```"
   ]
  },
  {
   "cell_type": "markdown",
   "metadata": {},
   "source": [
    "---"
   ]
  }
 ],
 "metadata": {
  "anaconda-cloud": {},
  "kernelspec": {
   "display_name": "Python 3 (ipykernel)",
   "language": "python",
   "name": "python3"
  },
  "language_info": {
   "codemirror_mode": {
    "name": "ipython",
    "version": 3
   },
   "file_extension": ".py",
   "mimetype": "text/x-python",
   "name": "python",
   "nbconvert_exporter": "python",
   "pygments_lexer": "ipython3",
   "version": "3.9.12"
  }
 },
 "nbformat": 4,
 "nbformat_minor": 4
}
